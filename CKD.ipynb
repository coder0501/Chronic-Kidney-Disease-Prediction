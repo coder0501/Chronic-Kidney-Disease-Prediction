import glob
import numpy as np 
import pandas as pd 
from sklearn.model_selection import train_test_split
from sklearn.preprocessing import LabelEncoder, MinMaxScaler


df= pd.read_csv('kidney_disease.csv')
print(df.head())
   id   age    bp     sg   al   su     rbc        pc         pcc          ba  \
0   0  48.0  80.0  1.020  1.0  0.0     NaN    normal  notpresent  notpresent   
1   1   7.0  50.0  1.020  4.0  0.0     NaN    normal  notpresent  notpresent   
2   2  62.0  80.0  1.010  2.0  3.0  normal    normal  notpresent  notpresent   
3   3  48.0  70.0  1.005  4.0  0.0  normal  abnormal     present  notpresent   
4   4  51.0  80.0  1.010  2.0  0.0  normal    normal  notpresent  notpresent   

   ...  pcv    wc   rc  htn   dm  cad appet   pe  ane classification  
0  ...   44  7800  5.2  yes  yes   no  good   no   no            ckd  
1  ...   38  6000  NaN   no   no   no  good   no   no            ckd  
2  ...   31  7500  NaN   no  yes   no  poor   no  yes            ckd  
3  ...   32  6700  3.9  yes   no   no  poor  yes  yes            ckd  
4  ...   35  7300  4.6   no   no   no  good   no   no            ckd  

[5 rows x 26 columns]
df.dropna(axis=0,inplace=True)
df.reset_index(drop=True,inplace=True)
#Splitting the data into independent and dependent variables
#Denoting the indepedent dataset as X and dependent dataset as Y
X= df.iloc[:,:6]
Y= df['classification']
print(X.head())
print(Y.head())
      sg  al   sc  hemo  pcv  htn
0  1.020   1  1.2  15.4   44  yes
1  1.020   4  0.8  11.3   38   no
2  1.010   2  1.8   9.6   31   no
3  1.005   4  3.8  11.2   32  yes
4  1.010   2  1.4  11.6   35   no
0    ckd
1    ckd
2    ckd
3    ckd
4    ckd
Name: classification, dtype: object
df.corr()
sg	al	sc	hemo	pcv
sg	1.000000	-0.513422	-0.401729	0.619735	0.597271
al	-0.513422	1.000000	0.505523	-0.655087	-0.621687
sc	-0.401729	0.505523	1.000000	-0.586453	-0.583498
hemo	0.619735	-0.655087	-0.586453	1.000000	0.886355
pcv	0.597271	-0.621687	-0.583498	0.886355	1.000000
import sklearn
from sklearn.preprocessing import LabelEncoder
lb=LabelEncoder()
y=lb.fit_transform(Y)
#Transform the non-numeric data in the columns
lb= LabelEncoder()
for col in df.columns:
    if(df[col].dtype==np.number):
        continue
    else:
        df[col]= lb.fit_transform(df[col])
df
:4: DeprecationWarning: Converting `np.inexact` or `np.floating` to a dtype is deprecated. The current result is `float64` which is not strictly correct.
  if(df[col].dtype==np.number):
sg	al	sc	hemo	pcv	htn	classification
0	1.020	1	1.2	15.4	28	1	0
1	1.020	4	0.8	11.3	22	0	0
2	1.010	2	1.8	9.6	15	0	0
3	1.005	4	3.8	11.2	16	1	0
4	1.010	2	1.4	11.6	19	0	0
...	...	...	...	...	...	...	...
282	1.020	0	0.5	15.7	31	0	1
283	1.025	0	1.2	16.5	38	0	1
284	1.020	0	0.6	15.8	33	0	1
285	1.025	0	1.0	14.2	35	0	1
286	1.025	0	1.1	15.8	37	0	1
287 rows × 7 columns

X= df.iloc[:,:6].values
Y= df['classification'].values
#Splitting the data into training and testing data
from sklearn.model_selection import train_test_split
 
type(x_train)
numpy.ndarray
x_train.shape
(229, 6)
y_train.shape
(229,)
from sklearn.preprocessing import StandardScaler
from sklearn.pipeline import Pipeline
from sklearn.linear_model import LogisticRegression
pipe=Pipeline([
    ('rescale',StandardScaler()),
    ('classifier',LogisticRegression())
])
x_train
array([[ 1.01 ,  1.   ,  1.1  , 15.   , 32.   ,  0.   ],
       [ 1.02 ,  0.   ,  1.2  , 16.2  , 34.   ,  0.   ],
       [ 1.02 ,  0.   ,  1.2  , 15.7  , 28.   ,  0.   ],
       ...,
       [ 1.015,  3.   ,  3.3  , 11.3  , 15.   ,  1.   ],
       [ 1.01 ,  2.   ,  3.3  , 10.9  , 21.   ,  0.   ],
       [ 1.025,  0.   ,  0.9  , 13.9  , 32.   ,  0.   ]])
pipe.fit(x_train,y_train)
Pipeline(steps=[('rescale', StandardScaler()),
                ('classifier', LogisticRegression())])
 
pipe.predict([[1.025,0,1.2,15.4,48,0]])
array([1])
accuracy = pipe.score(x_test, y_test)
print(accuracy)
0.9655172413793104
